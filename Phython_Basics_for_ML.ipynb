{
  "nbformat": 4,
  "nbformat_minor": 0,
  "metadata": {
    "colab": {
      "provenance": [],
      "collapsed_sections": [
        "v5kEUBoCUZMX",
        "s3TwX-ITfF5Z",
        "5xGgMhDNgK1t",
        "PGje2bbN3kEj"
      ],
      "authorship_tag": "ABX9TyNujK5ZrPmFpNopidTabWsh",
      "include_colab_link": true
    },
    "kernelspec": {
      "name": "python3",
      "display_name": "Python 3"
    },
    "language_info": {
      "name": "python"
    }
  },
  "cells": [
    {
      "cell_type": "markdown",
      "metadata": {
        "id": "view-in-github",
        "colab_type": "text"
      },
      "source": [
        "<a href=\"https://colab.research.google.com/github/Varshashri1505/PythonBasics/blob/main/Phython_Basics_for_ML.ipynb\" target=\"_parent\"><img src=\"https://colab.research.google.com/assets/colab-badge.svg\" alt=\"Open In Colab\"/></a>"
      ]
    },
    {
      "cell_type": "markdown",
      "source": [
        "Programming Languages used for Machine Learning:\n",
        "1. Python\n",
        "2. R"
      ],
      "metadata": {
        "id": "jAQeIXG1hCF-"
      }
    },
    {
      "cell_type": "markdown",
      "source": [
        "#Print Function"
      ],
      "metadata": {
        "id": "v5kEUBoCUZMX"
      }
    },
    {
      "cell_type": "code",
      "source": [
        "print(\"Machine Learning\")"
      ],
      "metadata": {
        "colab": {
          "base_uri": "https://localhost:8080/"
        },
        "id": "24j7hxtLTalu",
        "outputId": "9f7a372c-fcac-42a4-c907-f7dd86fa552c"
      },
      "execution_count": 103,
      "outputs": [
        {
          "output_type": "stream",
          "name": "stdout",
          "text": [
            "Machine Learning\n"
          ]
        }
      ]
    },
    {
      "cell_type": "code",
      "source": [
        "print(\"Machine Learning\"+\" Projects\")"
      ],
      "metadata": {
        "colab": {
          "base_uri": "https://localhost:8080/"
        },
        "id": "qvLlztoSU51S",
        "outputId": "6d9c23e5-8a99-49e0-e620-3a121a4b0bde"
      },
      "execution_count": 104,
      "outputs": [
        {
          "output_type": "stream",
          "name": "stdout",
          "text": [
            "Machine Learning Projects\n"
          ]
        }
      ]
    },
    {
      "cell_type": "code",
      "source": [
        "print(8)"
      ],
      "metadata": {
        "colab": {
          "base_uri": "https://localhost:8080/"
        },
        "id": "XHGbB-pJVJgE",
        "outputId": "fc6a8093-cefd-4821-dbd5-66d3b0b9e328"
      },
      "execution_count": 105,
      "outputs": [
        {
          "output_type": "stream",
          "name": "stdout",
          "text": [
            "8\n"
          ]
        }
      ]
    },
    {
      "cell_type": "code",
      "source": [
        "print(8+3)"
      ],
      "metadata": {
        "colab": {
          "base_uri": "https://localhost:8080/"
        },
        "id": "4SR-lDPgVRpP",
        "outputId": "41867e8c-d244-4cfd-807f-21879ed40efa"
      },
      "execution_count": 106,
      "outputs": [
        {
          "output_type": "stream",
          "name": "stdout",
          "text": [
            "11\n"
          ]
        }
      ]
    },
    {
      "cell_type": "markdown",
      "source": [],
      "metadata": {
        "id": "r_rNQ3lEVsG_"
      }
    },
    {
      "cell_type": "markdown",
      "source": [
        "#Basic Data Types:\n",
        "1. int\n",
        "2. float\n",
        "3. str"
      ],
      "metadata": {
        "id": "s3TwX-ITfF5Z"
      }
    },
    {
      "cell_type": "code",
      "source": [
        "type(8)"
      ],
      "metadata": {
        "colab": {
          "base_uri": "https://localhost:8080/"
        },
        "id": "vYwh9WQQfVei",
        "outputId": "7e66c815-d5ef-4b94-e809-8fb7fb0c7106"
      },
      "execution_count": 107,
      "outputs": [
        {
          "output_type": "execute_result",
          "data": {
            "text/plain": [
              "int"
            ]
          },
          "metadata": {},
          "execution_count": 107
        }
      ]
    },
    {
      "cell_type": "code",
      "source": [
        "type(5.3)"
      ],
      "metadata": {
        "colab": {
          "base_uri": "https://localhost:8080/"
        },
        "id": "4jKbaLJbffD6",
        "outputId": "01411cb5-6e7d-45eb-9220-74f83ca81dfd"
      },
      "execution_count": 108,
      "outputs": [
        {
          "output_type": "execute_result",
          "data": {
            "text/plain": [
              "float"
            ]
          },
          "metadata": {},
          "execution_count": 108
        }
      ]
    },
    {
      "cell_type": "code",
      "source": [
        "type(\"Telugu\")"
      ],
      "metadata": {
        "colab": {
          "base_uri": "https://localhost:8080/"
        },
        "id": "qBuAH8TXf-o6",
        "outputId": "3829f6ec-dd7e-4c69-a83e-ae0de9daa22c"
      },
      "execution_count": 109,
      "outputs": [
        {
          "output_type": "execute_result",
          "data": {
            "text/plain": [
              "str"
            ]
          },
          "metadata": {},
          "execution_count": 109
        }
      ]
    },
    {
      "cell_type": "markdown",
      "source": [
        "#Constants and Variables\n"
      ],
      "metadata": {
        "id": "5xGgMhDNgK1t"
      }
    },
    {
      "cell_type": "code",
      "source": [
        "super_hero = \"Iron Man\"\n",
        "print(super_hero)"
      ],
      "metadata": {
        "colab": {
          "base_uri": "https://localhost:8080/"
        },
        "id": "xNdBYXQXgnYo",
        "outputId": "a4a8cf90-9fc7-48ca-8466-110f6f383a3a"
      },
      "execution_count": 110,
      "outputs": [
        {
          "output_type": "stream",
          "name": "stdout",
          "text": [
            "Iron Man\n"
          ]
        }
      ]
    },
    {
      "cell_type": "code",
      "source": [
        "super_hero = \"Captain America\"\n",
        "print(super_hero)"
      ],
      "metadata": {
        "colab": {
          "base_uri": "https://localhost:8080/"
        },
        "id": "G2LHTsd-gy__",
        "outputId": "f15dcc78-6938-4c1b-e534-bc1bf4cdf588"
      },
      "execution_count": 111,
      "outputs": [
        {
          "output_type": "stream",
          "name": "stdout",
          "text": [
            "Captain America\n"
          ]
        }
      ]
    },
    {
      "cell_type": "code",
      "source": [
        "hero1, hero2, hero3 = \"Iron Man\",\"Captain America\",\"Thor\"\n",
        "print(hero1)\n",
        "print(hero2)\n",
        "print(hero3)\n",
        "\n"
      ],
      "metadata": {
        "colab": {
          "base_uri": "https://localhost:8080/"
        },
        "id": "1vWWy_BHjwFP",
        "outputId": "df18b7e1-7182-403a-f60d-e2b9cc6daf0c"
      },
      "execution_count": 112,
      "outputs": [
        {
          "output_type": "stream",
          "name": "stdout",
          "text": [
            "Iron Man\n",
            "Captain America\n",
            "Thor\n"
          ]
        }
      ]
    },
    {
      "cell_type": "code",
      "source": [
        "x = y = z = 25\n",
        "print(x)\n",
        "print(y)\n",
        "print(z)"
      ],
      "metadata": {
        "colab": {
          "base_uri": "https://localhost:8080/"
        },
        "id": "Q-dHcFgOkJ3g",
        "outputId": "34f5643e-f6e9-4273-9157-83e8d9b173fa"
      },
      "execution_count": 113,
      "outputs": [
        {
          "output_type": "stream",
          "name": "stdout",
          "text": [
            "25\n",
            "25\n",
            "25\n"
          ]
        }
      ]
    },
    {
      "cell_type": "markdown",
      "source": [
        "#Input Function"
      ],
      "metadata": {
        "id": "LHxa0SAvkqnQ"
      }
    },
    {
      "cell_type": "code",
      "source": [
        "number_1 = int(input(\"Enter the first number: \"))\n",
        "number_2 = int(input(\"Enter the second number: \"))\n",
        "sum = number_1 + number_2\n",
        "print(sum)"
      ],
      "metadata": {
        "colab": {
          "base_uri": "https://localhost:8080/"
        },
        "id": "jyvp9HT8kv7d",
        "outputId": "ef51868b-be6f-4525-d6d8-c75f91de99a2"
      },
      "execution_count": 73,
      "outputs": [
        {
          "output_type": "stream",
          "name": "stdout",
          "text": [
            "Enter the first number: 25\n",
            "Enter the second number: 45\n",
            "70\n"
          ]
        }
      ]
    },
    {
      "cell_type": "code",
      "source": [
        "#Changing the data type in python\n",
        "num = 5\n",
        "print(float(num))\n"
      ],
      "metadata": {
        "colab": {
          "base_uri": "https://localhost:8080/"
        },
        "id": "mYqLtD0LrPvx",
        "outputId": "3e37e323-9011-4ded-f57b-e20e58fd82a6"
      },
      "execution_count": 74,
      "outputs": [
        {
          "output_type": "stream",
          "name": "stdout",
          "text": [
            "5.0\n"
          ]
        }
      ]
    },
    {
      "cell_type": "markdown",
      "source": [
        "#Basic Data Types in Pyhton(Detiled)\n",
        "1. Integer\n",
        "2. Floating Point\n",
        "3. Complex\n",
        "4. Boolean\n",
        "5. String\n",
        "\n",
        "\n",
        "\n",
        "\n"
      ],
      "metadata": {
        "id": "CxzSmf3Ltcwt"
      }
    },
    {
      "cell_type": "code",
      "source": [
        "#integers\n",
        "a=8\n",
        "print(a)"
      ],
      "metadata": {
        "colab": {
          "base_uri": "https://localhost:8080/"
        },
        "id": "FXZrY7rctiWW",
        "outputId": "98b89ae4-b4c4-4840-eca4-a5c544717016"
      },
      "execution_count": 75,
      "outputs": [
        {
          "output_type": "stream",
          "name": "stdout",
          "text": [
            "8\n"
          ]
        }
      ]
    },
    {
      "cell_type": "code",
      "source": [
        "type(a)\n",
        "\n"
      ],
      "metadata": {
        "colab": {
          "base_uri": "https://localhost:8080/"
        },
        "id": "G7QJVfVGw7pX",
        "outputId": "4addc109-ee90-4d8a-c256-55b94cc0c004"
      },
      "execution_count": 76,
      "outputs": [
        {
          "output_type": "execute_result",
          "data": {
            "text/plain": [
              "int"
            ]
          },
          "metadata": {},
          "execution_count": 76
        }
      ]
    },
    {
      "cell_type": "code",
      "source": [
        "#floating point\n",
        "b=2.3\n",
        "print(b)\n",
        "type(b)"
      ],
      "metadata": {
        "colab": {
          "base_uri": "https://localhost:8080/"
        },
        "id": "qewteZ-nw-rU",
        "outputId": "7dc7a6cf-df72-4229-9e0e-35519249cfe6"
      },
      "execution_count": 77,
      "outputs": [
        {
          "output_type": "stream",
          "name": "stdout",
          "text": [
            "2.3\n"
          ]
        },
        {
          "output_type": "execute_result",
          "data": {
            "text/plain": [
              "float"
            ]
          },
          "metadata": {},
          "execution_count": 77
        }
      ]
    },
    {
      "cell_type": "code",
      "source": [
        "#Complex Numbers\n",
        "c= 1 + 3j\n",
        "print(c)\n",
        "type(c)"
      ],
      "metadata": {
        "colab": {
          "base_uri": "https://localhost:8080/"
        },
        "id": "rCOhps2RxFj5",
        "outputId": "e992fb29-2a00-4da7-ffb6-7d44459f4c42"
      },
      "execution_count": 78,
      "outputs": [
        {
          "output_type": "stream",
          "name": "stdout",
          "text": [
            "(1+3j)\n"
          ]
        },
        {
          "output_type": "execute_result",
          "data": {
            "text/plain": [
              "complex"
            ]
          },
          "metadata": {},
          "execution_count": 78
        }
      ]
    },
    {
      "cell_type": "markdown",
      "source": [
        "Conversion of one data type to another"
      ],
      "metadata": {
        "id": "4Cndo2wcxjKd"
      }
    },
    {
      "cell_type": "code",
      "source": [
        "# int to float\n",
        "x=10\n",
        "print(x)\n",
        "type(x)"
      ],
      "metadata": {
        "colab": {
          "base_uri": "https://localhost:8080/"
        },
        "id": "0d955jZSxW2G",
        "outputId": "4d68eb63-edc9-4707-87f1-0d551694d1b5"
      },
      "execution_count": 79,
      "outputs": [
        {
          "output_type": "stream",
          "name": "stdout",
          "text": [
            "10\n"
          ]
        },
        {
          "output_type": "execute_result",
          "data": {
            "text/plain": [
              "int"
            ]
          },
          "metadata": {},
          "execution_count": 79
        }
      ]
    },
    {
      "cell_type": "code",
      "source": [
        "y=float(x)\n",
        "print(y)\n",
        "type(y)"
      ],
      "metadata": {
        "colab": {
          "base_uri": "https://localhost:8080/"
        },
        "id": "68k4wh3Ex1w8",
        "outputId": "60147402-cc30-4fc1-a046-f40b76b85106"
      },
      "execution_count": 80,
      "outputs": [
        {
          "output_type": "stream",
          "name": "stdout",
          "text": [
            "10.0\n"
          ]
        },
        {
          "output_type": "execute_result",
          "data": {
            "text/plain": [
              "float"
            ]
          },
          "metadata": {},
          "execution_count": 80
        }
      ]
    },
    {
      "cell_type": "code",
      "source": [
        "#float to int\n",
        "x=5.88\n",
        "print(x)\n",
        "type(x)\n"
      ],
      "metadata": {
        "colab": {
          "base_uri": "https://localhost:8080/"
        },
        "id": "EndcFD-4yFS2",
        "outputId": "1f46f2dc-7114-4b87-b079-86da1647f94b"
      },
      "execution_count": 81,
      "outputs": [
        {
          "output_type": "stream",
          "name": "stdout",
          "text": [
            "5.88\n"
          ]
        },
        {
          "output_type": "execute_result",
          "data": {
            "text/plain": [
              "float"
            ]
          },
          "metadata": {},
          "execution_count": 81
        }
      ]
    },
    {
      "cell_type": "code",
      "source": [
        "y=int(x)\n",
        "print(y)\n",
        "type(y)"
      ],
      "metadata": {
        "colab": {
          "base_uri": "https://localhost:8080/"
        },
        "id": "leE8spsWyKdZ",
        "outputId": "b5e9e346-d5ce-4e26-a06e-d694c039f043"
      },
      "execution_count": 82,
      "outputs": [
        {
          "output_type": "stream",
          "name": "stdout",
          "text": [
            "5\n"
          ]
        },
        {
          "output_type": "execute_result",
          "data": {
            "text/plain": [
              "int"
            ]
          },
          "metadata": {},
          "execution_count": 82
        }
      ]
    },
    {
      "cell_type": "markdown",
      "source": [
        "Boolean\n",
        "1. True\n",
        "2. False"
      ],
      "metadata": {
        "id": "CgNSjJ-Lyfmb"
      }
    },
    {
      "cell_type": "code",
      "source": [
        "a = True\n",
        "print(a)\n",
        "type(a)"
      ],
      "metadata": {
        "colab": {
          "base_uri": "https://localhost:8080/"
        },
        "id": "JffNB6RxyVi8",
        "outputId": "ecae479b-cec2-4731-ca37-05480099080d"
      },
      "execution_count": 83,
      "outputs": [
        {
          "output_type": "stream",
          "name": "stdout",
          "text": [
            "True\n"
          ]
        },
        {
          "output_type": "execute_result",
          "data": {
            "text/plain": [
              "bool"
            ]
          },
          "metadata": {},
          "execution_count": 83
        }
      ]
    },
    {
      "cell_type": "code",
      "source": [
        "b = False\n",
        "print(b)\n",
        "type(b)\n"
      ],
      "metadata": {
        "colab": {
          "base_uri": "https://localhost:8080/"
        },
        "id": "Oidw0lrDysVv",
        "outputId": "7ca634ac-6164-4e72-f15f-3a6cfd3d6cea"
      },
      "execution_count": 84,
      "outputs": [
        {
          "output_type": "stream",
          "name": "stdout",
          "text": [
            "False\n"
          ]
        },
        {
          "output_type": "execute_result",
          "data": {
            "text/plain": [
              "bool"
            ]
          },
          "metadata": {},
          "execution_count": 84
        }
      ]
    },
    {
      "cell_type": "code",
      "source": [
        "#Example\n",
        "a = 7 < 3\n",
        "print(a)\n",
        "type(a)"
      ],
      "metadata": {
        "colab": {
          "base_uri": "https://localhost:8080/"
        },
        "id": "P-AaP9yuy0t1",
        "outputId": "4455c53d-4683-4634-9bec-846a84dda527"
      },
      "execution_count": 85,
      "outputs": [
        {
          "output_type": "stream",
          "name": "stdout",
          "text": [
            "False\n"
          ]
        },
        {
          "output_type": "execute_result",
          "data": {
            "text/plain": [
              "bool"
            ]
          },
          "metadata": {},
          "execution_count": 85
        }
      ]
    },
    {
      "cell_type": "code",
      "source": [
        "a = 7 > 3\n",
        "print(a)\n",
        "type(a)"
      ],
      "metadata": {
        "colab": {
          "base_uri": "https://localhost:8080/"
        },
        "id": "Obry8CkhzHaN",
        "outputId": "bfe051a9-4672-4aff-c171-baf5f13434a0"
      },
      "execution_count": 86,
      "outputs": [
        {
          "output_type": "stream",
          "name": "stdout",
          "text": [
            "True\n"
          ]
        },
        {
          "output_type": "execute_result",
          "data": {
            "text/plain": [
              "bool"
            ]
          },
          "metadata": {},
          "execution_count": 86
        }
      ]
    },
    {
      "cell_type": "markdown",
      "source": [
        "String"
      ],
      "metadata": {
        "id": "9FUrCmuqzO0j"
      }
    },
    {
      "cell_type": "code",
      "source": [
        "print(\"Machine Learning\")\n",
        "\n"
      ],
      "metadata": {
        "colab": {
          "base_uri": "https://localhost:8080/"
        },
        "id": "e6IWGgfOzRIp",
        "outputId": "3f568aa3-2fa0-4d5d-8756-ca0835e5fa7f"
      },
      "execution_count": 87,
      "outputs": [
        {
          "output_type": "stream",
          "name": "stdout",
          "text": [
            "Machine Learning\n"
          ]
        }
      ]
    },
    {
      "cell_type": "code",
      "source": [
        "print('Machine Learning')"
      ],
      "metadata": {
        "colab": {
          "base_uri": "https://localhost:8080/"
        },
        "id": "SlHK4rERzVra",
        "outputId": "b050d279-4987-4d0c-99e8-9261e22bddf6"
      },
      "execution_count": 88,
      "outputs": [
        {
          "output_type": "stream",
          "name": "stdout",
          "text": [
            "Machine Learning\n"
          ]
        }
      ]
    },
    {
      "cell_type": "code",
      "source": [
        "#Basic Operations on Strings\n",
        "my_string = \"Machine Learning\"\n",
        "print(my_string)\n",
        "type(my_string)"
      ],
      "metadata": {
        "colab": {
          "base_uri": "https://localhost:8080/"
        },
        "id": "8_VahdKSzaok",
        "outputId": "422cd50d-a7a9-4b90-a8a2-6ea73385aa65"
      },
      "execution_count": 89,
      "outputs": [
        {
          "output_type": "stream",
          "name": "stdout",
          "text": [
            "Machine Learning\n"
          ]
        },
        {
          "output_type": "execute_result",
          "data": {
            "text/plain": [
              "str"
            ]
          },
          "metadata": {},
          "execution_count": 89
        }
      ]
    },
    {
      "cell_type": "code",
      "source": [
        "#repeated terms\n",
        "print(\"Hello\"*5)"
      ],
      "metadata": {
        "colab": {
          "base_uri": "https://localhost:8080/"
        },
        "id": "86QgQvy8z89I",
        "outputId": "27f314dc-f338-468a-f67a-f5c11c03221f"
      },
      "execution_count": 90,
      "outputs": [
        {
          "output_type": "stream",
          "name": "stdout",
          "text": [
            "HelloHelloHelloHelloHello\n"
          ]
        }
      ]
    },
    {
      "cell_type": "markdown",
      "source": [
        "Slicing"
      ],
      "metadata": {
        "id": "LI1dMCz61Qpk"
      }
    },
    {
      "cell_type": "code",
      "source": [
        "my_string = \"Programming\" #values from index 1 to index 5-1 will be sliced\n",
        "print(my_string[1:5])"
      ],
      "metadata": {
        "colab": {
          "base_uri": "https://localhost:8080/"
        },
        "id": "-eCSBw6B0VhS",
        "outputId": "9895628c-71f6-4024-e7cb-25e50b041d23"
      },
      "execution_count": 91,
      "outputs": [
        {
          "output_type": "stream",
          "name": "stdout",
          "text": [
            "rogr\n"
          ]
        }
      ]
    },
    {
      "cell_type": "code",
      "source": [
        "#step\n",
        "print(my_string[0:10:2])"
      ],
      "metadata": {
        "colab": {
          "base_uri": "https://localhost:8080/"
        },
        "id": "dAgEsz_g0zgK",
        "outputId": "a9661a13-c75a-4cae-8b65-4f84ded51c55"
      },
      "execution_count": 92,
      "outputs": [
        {
          "output_type": "stream",
          "name": "stdout",
          "text": [
            "Pormi\n"
          ]
        }
      ]
    },
    {
      "cell_type": "markdown",
      "source": [
        "String Concatination"
      ],
      "metadata": {
        "id": "MGbRzwg914a6"
      }
    },
    {
      "cell_type": "code",
      "source": [
        "word_1 = \"Machine \"\n",
        "word_2 = \"Learning\"\n",
        "\n",
        "print(word_1 + word_2)\n"
      ],
      "metadata": {
        "colab": {
          "base_uri": "https://localhost:8080/"
        },
        "id": "C7o9JLoJ167q",
        "outputId": "1f6356f1-9d54-4893-d74e-e8b41178860d"
      },
      "execution_count": 93,
      "outputs": [
        {
          "output_type": "stream",
          "name": "stdout",
          "text": [
            "Machine Learning\n"
          ]
        }
      ]
    },
    {
      "cell_type": "markdown",
      "source": [
        "#Types of Objects in Python\n",
        "1. Immutable Objects\n",
        "2. Mutable Objects\n",
        "\n",
        "\n",
        "Immutable Objects:\n",
        "\n",
        "1. int 2. float 3. string 4. bool 5. tuple\n",
        "\n",
        "Mutable Objects\n",
        "1. List\n",
        "2. Set\n",
        "3. Dictionary"
      ],
      "metadata": {
        "id": "eyHi6Rix2qYh"
      }
    },
    {
      "cell_type": "markdown",
      "source": [
        "#-> List"
      ],
      "metadata": {
        "id": "PGje2bbN3kEj"
      }
    },
    {
      "cell_type": "code",
      "source": [
        "#List should be included in square Brackets\n",
        "#store multiple values\n",
        "my_list = [1,2,3,4,5]\n",
        "print(my_list)\n",
        "type(my_list)"
      ],
      "metadata": {
        "colab": {
          "base_uri": "https://localhost:8080/"
        },
        "id": "XJzs4QvD3oFA",
        "outputId": "02b1d074-a5ce-445e-d705-b94f65d2cdb0"
      },
      "execution_count": 94,
      "outputs": [
        {
          "output_type": "stream",
          "name": "stdout",
          "text": [
            "[1, 2, 3, 4, 5]\n"
          ]
        },
        {
          "output_type": "execute_result",
          "data": {
            "text/plain": [
              "list"
            ]
          },
          "metadata": {},
          "execution_count": 94
        }
      ]
    },
    {
      "cell_type": "code",
      "source": [
        "#lists can have multiple data types\n",
        "my_list= [2,3,1.8,'English',True]\n",
        "print(my_list)"
      ],
      "metadata": {
        "colab": {
          "base_uri": "https://localhost:8080/"
        },
        "id": "aCJQnkOY4Rg0",
        "outputId": "6db7ee4d-59f7-4932-c7d1-edd183af1230"
      },
      "execution_count": 95,
      "outputs": [
        {
          "output_type": "stream",
          "name": "stdout",
          "text": [
            "[2, 3, 1.8, 'English', True]\n"
          ]
        }
      ]
    },
    {
      "cell_type": "markdown",
      "source": [
        "Lists are mutable ---> Changable"
      ],
      "metadata": {
        "id": "oXBJwrpY4yVq"
      }
    },
    {
      "cell_type": "code",
      "source": [
        "#add elements to a alist\n",
        "my_list= [2,3,1.8,'English',True]\n",
        "my_list.append(6)\n",
        "print(my_list)"
      ],
      "metadata": {
        "colab": {
          "base_uri": "https://localhost:8080/"
        },
        "id": "-60uaxTo4xx4",
        "outputId": "d2961c6a-3c3b-485d-e0da-1e93159fcc57"
      },
      "execution_count": 96,
      "outputs": [
        {
          "output_type": "stream",
          "name": "stdout",
          "text": [
            "[2, 3, 1.8, 'English', True, 6]\n"
          ]
        }
      ]
    },
    {
      "cell_type": "code",
      "source": [
        "#print elements of a list using their index\n",
        "print(my_list[0])\n",
        "print(my_list[2])"
      ],
      "metadata": {
        "colab": {
          "base_uri": "https://localhost:8080/"
        },
        "id": "gWuJoU065C20",
        "outputId": "6f5b3ced-0c98-4533-dcc8-d37d0261ed0b"
      },
      "execution_count": 97,
      "outputs": [
        {
          "output_type": "stream",
          "name": "stdout",
          "text": [
            "2\n",
            "1.8\n"
          ]
        }
      ]
    },
    {
      "cell_type": "code",
      "source": [
        "#list allows duplicate values\n",
        "list_1 = [1,2,3,4,5,12,2,3]\n",
        "print(list_1)"
      ],
      "metadata": {
        "colab": {
          "base_uri": "https://localhost:8080/"
        },
        "id": "FDC2wTds5jmL",
        "outputId": "c34454da-7134-4542-bb3e-8f90b28c8399"
      },
      "execution_count": 98,
      "outputs": [
        {
          "output_type": "stream",
          "name": "stdout",
          "text": [
            "[1, 2, 3, 4, 5, 12, 2, 3]\n"
          ]
        }
      ]
    },
    {
      "cell_type": "code",
      "source": [
        "print(len(list_1))"
      ],
      "metadata": {
        "colab": {
          "base_uri": "https://localhost:8080/"
        },
        "id": "7RBZbMwo5wGc",
        "outputId": "2b38d045-43d7-432c-b3f7-8e822cb3b95c"
      },
      "execution_count": 99,
      "outputs": [
        {
          "output_type": "stream",
          "name": "stdout",
          "text": [
            "8\n"
          ]
        }
      ]
    },
    {
      "cell_type": "code",
      "source": [
        "#initializing an empty list\n",
        "list_2 = []\n",
        "print(list_2)"
      ],
      "metadata": {
        "colab": {
          "base_uri": "https://localhost:8080/"
        },
        "id": "RYzu6FXg58PI",
        "outputId": "2be4f7ec-38c1-487a-a244-09ffe37aa533"
      },
      "execution_count": 100,
      "outputs": [
        {
          "output_type": "stream",
          "name": "stdout",
          "text": [
            "[]\n"
          ]
        }
      ]
    },
    {
      "cell_type": "code",
      "source": [
        "list_2.append(5)\n",
        "print(list_2)"
      ],
      "metadata": {
        "colab": {
          "base_uri": "https://localhost:8080/"
        },
        "id": "WSTIO18u6J03",
        "outputId": "218de801-367f-40a3-b3fd-5ca5b8eed306"
      },
      "execution_count": 101,
      "outputs": [
        {
          "output_type": "stream",
          "name": "stdout",
          "text": [
            "[5]\n"
          ]
        }
      ]
    },
    {
      "cell_type": "code",
      "source": [
        "#delete an item in a list\n",
        "list_2 = [2,3,1.8,'English',True, 6]\n",
        "print(list_2)\n",
        "\n",
        "del list_2[2]\n",
        "print(list_2)"
      ],
      "metadata": {
        "colab": {
          "base_uri": "https://localhost:8080/"
        },
        "id": "mgX3I8Bf6VcH",
        "outputId": "cb9f33b5-d5e0-4598-8bad-7f4895fdc813"
      },
      "execution_count": 114,
      "outputs": [
        {
          "output_type": "stream",
          "name": "stdout",
          "text": [
            "[2, 3, 1.8, 'English', True, 6]\n",
            "[2, 3, 'English', True, 6]\n"
          ]
        }
      ]
    },
    {
      "cell_type": "code",
      "source": [
        "#join two lists\n",
        "list_3 = [1,2,3,4,5]\n",
        "list_4 = [2,5,6,7,8,9]\n",
        "\n",
        "list_5 = list_3 + list_4\n",
        "print(list_5)"
      ],
      "metadata": {
        "colab": {
          "base_uri": "https://localhost:8080/"
        },
        "id": "VTf96Bgb7EZ_",
        "outputId": "a5e887fc-606a-4a8f-9360-ad0b5a89c209"
      },
      "execution_count": 102,
      "outputs": [
        {
          "output_type": "stream",
          "name": "stdout",
          "text": [
            "[1, 2, 3, 4, 5, 2, 5, 6, 7, 8, 9]\n"
          ]
        }
      ]
    },
    {
      "cell_type": "markdown",
      "source": [
        "\n",
        "#-> Tuple"
      ],
      "metadata": {
        "id": "4r0eAafx7_np"
      }
    },
    {
      "cell_type": "code",
      "source": [
        "tuple_1 = (2,3,4,5)\n",
        "print(tuple_1)\n",
        "type(tuple_1)"
      ],
      "metadata": {
        "colab": {
          "base_uri": "https://localhost:8080/"
        },
        "id": "mF0ad-ch8QdJ",
        "outputId": "42b9b3d2-907d-4bb2-e918-1cd76f3e2779"
      },
      "execution_count": 116,
      "outputs": [
        {
          "output_type": "stream",
          "name": "stdout",
          "text": [
            "(2, 3, 4, 5)\n"
          ]
        },
        {
          "output_type": "execute_result",
          "data": {
            "text/plain": [
              "tuple"
            ]
          },
          "metadata": {},
          "execution_count": 116
        }
      ]
    },
    {
      "cell_type": "code",
      "source": [
        "#tupple allows multiple data types\n",
        "tuple_2=(6,7,3.5,'Data Science', False)\n",
        "print(tuple_2)"
      ],
      "metadata": {
        "colab": {
          "base_uri": "https://localhost:8080/"
        },
        "id": "Y0ltV64s8ji4",
        "outputId": "b05a073b-9d3f-4d60-ecc0-34d2478f209b"
      },
      "execution_count": 117,
      "outputs": [
        {
          "output_type": "stream",
          "name": "stdout",
          "text": [
            "(6, 7, 3.5, 'Data Science', False)\n"
          ]
        }
      ]
    },
    {
      "cell_type": "code",
      "source": [
        "#converting list into a tuple\n",
        "\n",
        "my_list = [3,4,5,6]\n",
        "print(my_list)\n",
        "\n",
        "my_tuple = tuple(my_list)\n",
        "print(my_tuple)"
      ],
      "metadata": {
        "colab": {
          "base_uri": "https://localhost:8080/"
        },
        "id": "Ul9K3f0L83_q",
        "outputId": "0c92bbee-2dbc-4c05-d93d-af838ff5bf3c"
      },
      "execution_count": 118,
      "outputs": [
        {
          "output_type": "stream",
          "name": "stdout",
          "text": [
            "[3, 4, 5, 6]\n",
            "(3, 4, 5, 6)\n"
          ]
        }
      ]
    },
    {
      "cell_type": "code",
      "source": [
        "print(my_tuple[0])\n",
        "print(my_tuple[1])"
      ],
      "metadata": {
        "colab": {
          "base_uri": "https://localhost:8080/"
        },
        "id": "px2mQc6v9OaG",
        "outputId": "1b6aae67-fdb7-4ab7-f59f-996ee20ff515"
      },
      "execution_count": 119,
      "outputs": [
        {
          "output_type": "stream",
          "name": "stdout",
          "text": [
            "3\n",
            "4\n"
          ]
        }
      ]
    },
    {
      "cell_type": "markdown",
      "source": [
        "Tuples are immutable --> Unchangable"
      ],
      "metadata": {
        "id": "2Wrm-Pd19jqR"
      }
    },
    {
      "cell_type": "code",
      "source": [
        "my_tuple.append(6)"
      ],
      "metadata": {
        "colab": {
          "base_uri": "https://localhost:8080/",
          "height": 141
        },
        "id": "9b-1WaYp9q2F",
        "outputId": "e34e6292-a8da-4835-95b1-98c859de9ee3"
      },
      "execution_count": 120,
      "outputs": [
        {
          "output_type": "error",
          "ename": "AttributeError",
          "evalue": "'tuple' object has no attribute 'append'",
          "traceback": [
            "\u001b[0;31m---------------------------------------------------------------------------\u001b[0m",
            "\u001b[0;31mAttributeError\u001b[0m                            Traceback (most recent call last)",
            "\u001b[0;32m/tmp/ipython-input-2191879701.py\u001b[0m in \u001b[0;36m<cell line: 0>\u001b[0;34m()\u001b[0m\n\u001b[0;32m----> 1\u001b[0;31m \u001b[0mmy_tuple\u001b[0m\u001b[0;34m.\u001b[0m\u001b[0mappend\u001b[0m\u001b[0;34m(\u001b[0m\u001b[0;36m6\u001b[0m\u001b[0;34m)\u001b[0m\u001b[0;34m\u001b[0m\u001b[0;34m\u001b[0m\u001b[0m\n\u001b[0m",
            "\u001b[0;31mAttributeError\u001b[0m: 'tuple' object has no attribute 'append'"
          ]
        }
      ]
    },
    {
      "cell_type": "code",
      "source": [
        "print(len(my_tuple))"
      ],
      "metadata": {
        "colab": {
          "base_uri": "https://localhost:8080/"
        },
        "id": "pYin4Z1w97gx",
        "outputId": "996cca3a-35c6-45b2-faa9-5123d39ab1ce"
      },
      "execution_count": 121,
      "outputs": [
        {
          "output_type": "stream",
          "name": "stdout",
          "text": [
            "4\n"
          ]
        }
      ]
    },
    {
      "cell_type": "markdown",
      "source": [
        "# --> Set"
      ],
      "metadata": {
        "id": "duiDcQi0-Bdw"
      }
    },
    {
      "cell_type": "code",
      "source": [
        "#SET --> Curly brackets\n",
        "my_set = {1,2,3,4,5}\n",
        "print(my_set)\n",
        "type(my_set)"
      ],
      "metadata": {
        "colab": {
          "base_uri": "https://localhost:8080/"
        },
        "id": "s-XpR20e-KFK",
        "outputId": "2b1ce891-ba02-481b-ceb6-997ac5969aee"
      },
      "execution_count": 122,
      "outputs": [
        {
          "output_type": "stream",
          "name": "stdout",
          "text": [
            "{1, 2, 3, 4, 5}\n"
          ]
        },
        {
          "output_type": "execute_result",
          "data": {
            "text/plain": [
              "set"
            ]
          },
          "metadata": {},
          "execution_count": 122
        }
      ]
    },
    {
      "cell_type": "code",
      "source": [
        "# we cannot call elements through index\n",
        "print(my_set[0])"
      ],
      "metadata": {
        "id": "XRwH0DeI-XLP"
      },
      "execution_count": null,
      "outputs": []
    },
    {
      "cell_type": "code",
      "source": [
        "#convert a list to set\n",
        "list_5 = [4,5,6,7]\n",
        "print(list_5)\n",
        "\n",
        "my_set=set(list_5)\n",
        "print(my_set)"
      ],
      "metadata": {
        "colab": {
          "base_uri": "https://localhost:8080/"
        },
        "id": "XwFHFNwM-lcQ",
        "outputId": "86bc15ea-a031-439d-d479-75cb52aede51"
      },
      "execution_count": 123,
      "outputs": [
        {
          "output_type": "stream",
          "name": "stdout",
          "text": [
            "[4, 5, 6, 7]\n",
            "{4, 5, 6, 7}\n"
          ]
        }
      ]
    },
    {
      "cell_type": "code",
      "source": [
        "#set doesnt allow duplicate values\n",
        "set_3 = {1,2,3,4,5,1,2,3}\n",
        "print(set_3)\n"
      ],
      "metadata": {
        "colab": {
          "base_uri": "https://localhost:8080/"
        },
        "id": "pj5UUxu9-3et",
        "outputId": "8fabb000-100c-4769-df43-de9813cdbef8"
      },
      "execution_count": 124,
      "outputs": [
        {
          "output_type": "stream",
          "name": "stdout",
          "text": [
            "{1, 2, 3, 4, 5}\n"
          ]
        }
      ]
    },
    {
      "cell_type": "markdown",
      "source": [
        "#--> Dictionary"
      ],
      "metadata": {
        "id": "8j6LxS3W_F4f"
      }
    },
    {
      "cell_type": "markdown",
      "source": [
        "Key-value Pair"
      ],
      "metadata": {
        "id": "YxToXnqE_kD6"
      }
    },
    {
      "cell_type": "code",
      "source": [
        "my_dictionary = {'name':'varsha','age':20,'country':'India'}\n",
        "print(my_dictionary)\n",
        "type(my_dictionary)"
      ],
      "metadata": {
        "colab": {
          "base_uri": "https://localhost:8080/"
        },
        "id": "UUrYLlTq_Jl8",
        "outputId": "71e57fe0-5697-48d5-9506-5996cdf2dbe8"
      },
      "execution_count": 125,
      "outputs": [
        {
          "output_type": "stream",
          "name": "stdout",
          "text": [
            "{'name': 'varsha', 'age': 20, 'country': 'India'}\n"
          ]
        },
        {
          "output_type": "execute_result",
          "data": {
            "text/plain": [
              "dict"
            ]
          },
          "metadata": {},
          "execution_count": 125
        }
      ]
    },
    {
      "cell_type": "code",
      "source": [
        "print(my_dictionary['name'])\n",
        "print(my_dictionary['age'])\n",
        "print(my_dictionary['country'])\n"
      ],
      "metadata": {
        "colab": {
          "base_uri": "https://localhost:8080/"
        },
        "id": "P0fPGiukAddJ",
        "outputId": "ce996a6f-8e0f-4dbd-9de3-a1a0d76ec313"
      },
      "execution_count": 126,
      "outputs": [
        {
          "output_type": "stream",
          "name": "stdout",
          "text": [
            "varsha\n",
            "20\n",
            "India\n"
          ]
        }
      ]
    },
    {
      "cell_type": "code",
      "source": [
        "# dictionary doesnt allow duplicate values\n",
        "dictionary_2 = {'name':'varsha','age':20,'country':'India','name':'varsha','age':20,'country':'India'}\n",
        "print(dictionary_2)"
      ],
      "metadata": {
        "colab": {
          "base_uri": "https://localhost:8080/"
        },
        "id": "PxXQFLUZA8Tk",
        "outputId": "c90ca895-4a21-427e-ff2a-aba4543338f0"
      },
      "execution_count": 127,
      "outputs": [
        {
          "output_type": "stream",
          "name": "stdout",
          "text": [
            "{'name': 'varsha', 'age': 20, 'country': 'India'}\n"
          ]
        }
      ]
    },
    {
      "cell_type": "markdown",
      "source": [
        "# Operators in Python\n",
        "1. Arthimetic Operators\n",
        "2. Assignment Operators\n",
        "3. Comparison Operators\n",
        "4. Logical Operators\n",
        "5. Identity Operators\n",
        "6. Membership Operators"
      ],
      "metadata": {
        "id": "fm9eelztB6hg"
      }
    },
    {
      "cell_type": "markdown",
      "source": [
        "1. Arithmetic Operators"
      ],
      "metadata": {
        "id": "phXUOMQiGrad"
      }
    },
    {
      "cell_type": "code",
      "source": [
        "num_1 = 10\n",
        "num_2 = 20\n",
        "#addition\n",
        "sum = num_1 + num_2\n",
        "print('sum = ',sum)\n",
        "\n",
        "#subtraction\n",
        "difference = num_1 - num_2\n",
        "print('Difference =', difference)\n",
        "\n",
        "#multiplication\n",
        "product = num_1 * num_2\n",
        "print('Product =', product)\n",
        "\n",
        "#Quoient\n",
        "division = num_1 / num_2\n",
        "print('Divison =', division)\n",
        "\n",
        "#Exponent\n",
        "exp = num_1 ** num_2 #10^20\n",
        "print('Exponent =',exp)\n",
        "\n",
        "#Modulas/Remainder\n",
        "Mod = num_1 % num_2\n",
        "print('Modulas =', Mod)"
      ],
      "metadata": {
        "colab": {
          "base_uri": "https://localhost:8080/"
        },
        "id": "fGG8GhHXD6QQ",
        "outputId": "28e91b4a-2abe-4f2a-f456-2bbe986fa8c1"
      },
      "execution_count": 129,
      "outputs": [
        {
          "output_type": "stream",
          "name": "stdout",
          "text": [
            "sum =  30\n",
            "Difference = -10\n",
            "Product = 200\n",
            "Divison = 0.5\n",
            "Exponent = 100000000000000000000\n",
            "Modulas = 10\n"
          ]
        }
      ]
    },
    {
      "cell_type": "markdown",
      "source": [
        "2. Assignement Operators\n",
        "+=\n",
        "\n",
        "-=\n",
        "\n",
        "*=\n",
        "\n",
        "**=\n",
        "\n",
        "/=\n",
        "\n",
        "%="
      ],
      "metadata": {
        "id": "yQ07VttRL9tq"
      }
    },
    {
      "cell_type": "code",
      "source": [
        "a = 5\n",
        "print(a)"
      ],
      "metadata": {
        "colab": {
          "base_uri": "https://localhost:8080/"
        },
        "id": "yx8KQaVGMCF3",
        "outputId": "a21de521-5ce8-4e5e-fd21-ce66bd405cb4"
      },
      "execution_count": 131,
      "outputs": [
        {
          "output_type": "stream",
          "name": "stdout",
          "text": [
            "5\n"
          ]
        }
      ]
    },
    {
      "cell_type": "code",
      "source": [
        "a = 5\n",
        "a += 5 #a = a+5\n",
        "print(a)"
      ],
      "metadata": {
        "colab": {
          "base_uri": "https://localhost:8080/"
        },
        "id": "mLVLoS6eMF3H",
        "outputId": "a20360a6-b0be-4c34-d7e1-25e5b5e187dc"
      },
      "execution_count": 132,
      "outputs": [
        {
          "output_type": "stream",
          "name": "stdout",
          "text": [
            "10\n"
          ]
        }
      ]
    },
    {
      "cell_type": "code",
      "source": [
        "b = 5\n",
        "b -= 3 #b = b+5\n",
        "print(b)"
      ],
      "metadata": {
        "colab": {
          "base_uri": "https://localhost:8080/"
        },
        "id": "YiAugSgYMUKB",
        "outputId": "8461b592-d92a-4e7b-e9ac-6b4d2b100d18"
      },
      "execution_count": 135,
      "outputs": [
        {
          "output_type": "stream",
          "name": "stdout",
          "text": [
            "2\n"
          ]
        }
      ]
    },
    {
      "cell_type": "markdown",
      "source": [
        "3. Comparison Operators"
      ],
      "metadata": {
        "id": "s_CYDmHzM5Bk"
      }
    },
    {
      "cell_type": "code",
      "source": [
        "a = 5\n",
        "b= 10\n",
        "print(a == b) # equal to\n",
        "print(a != b) # notequal to\n",
        "print(a > b)# greater than\n",
        "print(a < b) # lesser than\n",
        "print( a <= b)\n",
        "print(a >= b)\n"
      ],
      "metadata": {
        "colab": {
          "base_uri": "https://localhost:8080/"
        },
        "id": "ElBQdWzQM8lB",
        "outputId": "cbde23c8-9360-4f03-beaa-743d9482d2e2"
      },
      "execution_count": 136,
      "outputs": [
        {
          "output_type": "stream",
          "name": "stdout",
          "text": [
            "False\n",
            "True\n",
            "False\n",
            "True\n",
            "True\n",
            "False\n"
          ]
        }
      ]
    },
    {
      "cell_type": "markdown",
      "source": [
        "4. Logical Operators\n",
        "\n",
        "and\n",
        "\n",
        "or\n",
        "\n",
        "not"
      ],
      "metadata": {
        "id": "DeSz-SQaNqd4"
      }
    },
    {
      "cell_type": "code",
      "source": [
        "a = 10\n",
        "print(a > 20 and a > 5) # one condition is true then false\n",
        "print(a > 20 or a > 5) # one condition is true than true only\n",
        "print(not(a > 8 and a > 5)) #inverted to false"
      ],
      "metadata": {
        "colab": {
          "base_uri": "https://localhost:8080/"
        },
        "id": "iSZ6YnIgNpl_",
        "outputId": "f570cd11-e5ed-4562-d7c3-0975fc11e072"
      },
      "execution_count": 139,
      "outputs": [
        {
          "output_type": "stream",
          "name": "stdout",
          "text": [
            "False\n",
            "True\n",
            "False\n"
          ]
        }
      ]
    },
    {
      "cell_type": "markdown",
      "source": [
        "5. Identity Operators\n",
        "\n",
        "is\n",
        "\n",
        "isnot"
      ],
      "metadata": {
        "id": "q27bUH_AOlcB"
      }
    },
    {
      "cell_type": "code",
      "source": [
        "x=5\n",
        "y=5\n",
        "print(x is y)"
      ],
      "metadata": {
        "colab": {
          "base_uri": "https://localhost:8080/"
        },
        "id": "gqr6rsBaOlBt",
        "outputId": "c0aab2ed-f04f-4e16-9106-ca225e3b2713"
      },
      "execution_count": 140,
      "outputs": [
        {
          "output_type": "stream",
          "name": "stdout",
          "text": [
            "True\n"
          ]
        }
      ]
    },
    {
      "cell_type": "code",
      "source": [
        "x=5\n",
        "y=10\n",
        "print(x is y)"
      ],
      "metadata": {
        "colab": {
          "base_uri": "https://localhost:8080/"
        },
        "id": "-XGeh6rkOw7-",
        "outputId": "33f88d51-dc89-436f-c040-834a23a2ad69"
      },
      "execution_count": 141,
      "outputs": [
        {
          "output_type": "stream",
          "name": "stdout",
          "text": [
            "False\n"
          ]
        }
      ]
    },
    {
      "cell_type": "code",
      "source": [
        "x=5\n",
        "y=5\n",
        "print(x is not y)"
      ],
      "metadata": {
        "colab": {
          "base_uri": "https://localhost:8080/"
        },
        "id": "BWIFpv5dOzyK",
        "outputId": "9d1ba04d-5aed-4713-859c-d5a77dc63526"
      },
      "execution_count": 142,
      "outputs": [
        {
          "output_type": "stream",
          "name": "stdout",
          "text": [
            "False\n"
          ]
        }
      ]
    },
    {
      "cell_type": "code",
      "source": [
        "x=5\n",
        "y=10\n",
        "print(x is not y)"
      ],
      "metadata": {
        "colab": {
          "base_uri": "https://localhost:8080/"
        },
        "id": "vvDEdt6YO3sT",
        "outputId": "aecedbc0-50c5-43e3-f8b1-504884a3f168"
      },
      "execution_count": 143,
      "outputs": [
        {
          "output_type": "stream",
          "name": "stdout",
          "text": [
            "True\n"
          ]
        }
      ]
    },
    {
      "cell_type": "markdown",
      "source": [
        "6. Membership Operators\n",
        "\n",
        "in\n",
        "\n",
        "not in"
      ],
      "metadata": {
        "id": "t0sznfpePA1u"
      }
    },
    {
      "cell_type": "code",
      "source": [
        "a = 5\n",
        "b = 10\n",
        "c = [1,2,3,4,5]\n",
        "print(a in c)\n",
        "print(b in c)\n",
        "print(a not in c)\n",
        "print(b not in c)"
      ],
      "metadata": {
        "colab": {
          "base_uri": "https://localhost:8080/"
        },
        "id": "ajc-4phoO9U2",
        "outputId": "0ca99e00-3d11-4acc-d007-6270a021faa5"
      },
      "execution_count": 144,
      "outputs": [
        {
          "output_type": "stream",
          "name": "stdout",
          "text": [
            "True\n",
            "False\n",
            "False\n",
            "True\n"
          ]
        }
      ]
    },
    {
      "cell_type": "markdown",
      "source": [
        "#If else statements in py"
      ],
      "metadata": {
        "id": "j-t_1zbFQSh7"
      }
    },
    {
      "cell_type": "markdown",
      "source": [
        "simple if else statement"
      ],
      "metadata": {
        "id": "rgaafFeWQZ7v"
      }
    },
    {
      "cell_type": "code",
      "source": [
        "a = 30\n",
        "b = 50\n",
        "\n",
        "if(a > b):\n",
        "  print('a is the greatest number')\n",
        "else:\n",
        "  print('b is the greatest number')"
      ],
      "metadata": {
        "colab": {
          "base_uri": "https://localhost:8080/"
        },
        "id": "n-wuXTLFQeBb",
        "outputId": "70c37ad8-9329-44b5-afb4-21c276e7cdff"
      },
      "execution_count": 145,
      "outputs": [
        {
          "output_type": "stream",
          "name": "stdout",
          "text": [
            "b is the greatest number\n"
          ]
        }
      ]
    },
    {
      "cell_type": "code",
      "source": [
        "a = int(input('Enter the first number: '))\n",
        "b = int(input('Enter the second number: '))\n",
        "if(a > b):\n",
        "  print('First number is the greatest number')\n",
        "else:\n",
        "  print('Second number is the greatest number')"
      ],
      "metadata": {
        "colab": {
          "base_uri": "https://localhost:8080/"
        },
        "id": "s4K_-h-EQywU",
        "outputId": "494b343f-c800-41d0-cac7-ecf2b52c19e3"
      },
      "execution_count": 149,
      "outputs": [
        {
          "output_type": "stream",
          "name": "stdout",
          "text": [
            "Enter the first number: 45\n",
            "Enter the second number: 25\n",
            "First number is the greatest number\n"
          ]
        }
      ]
    },
    {
      "cell_type": "markdown",
      "source": [
        "if elif else statement"
      ],
      "metadata": {
        "id": "auwka5dMR5-6"
      }
    },
    {
      "cell_type": "code",
      "source": [
        "a = 15\n",
        "b = 25\n",
        "c = 30\n",
        "\n",
        "if (b < a > c):\n",
        "  print('a is the greatest number')\n",
        "elif (a < b > c):\n",
        "  print('b is the greatest number')\n",
        "else:\n",
        "  print('c is the greatest number')"
      ],
      "metadata": {
        "colab": {
          "base_uri": "https://localhost:8080/"
        },
        "id": "UX-9QRA7R-EP",
        "outputId": "59cd1a34-26a5-4d44-a455-7f0b27d3a250"
      },
      "execution_count": 150,
      "outputs": [
        {
          "output_type": "stream",
          "name": "stdout",
          "text": [
            "c is the greatest number\n"
          ]
        }
      ]
    },
    {
      "cell_type": "markdown",
      "source": [
        "nested if statement"
      ],
      "metadata": {
        "id": "73gQP0a4S15T"
      }
    },
    {
      "cell_type": "code",
      "source": [
        "a = 20\n",
        "b = 40\n",
        "c = 60\n",
        "\n",
        "if(a > b):\n",
        "  if(a > c):\n",
        "    print('a is the greatest number')\n",
        "  else:\n",
        "    print('c is greatest number')\n",
        "else:\n",
        "  if(b > c):\n",
        "    print('b is greatest number')\n",
        "  else:\n",
        "    print('c is greatest number')\n"
      ],
      "metadata": {
        "colab": {
          "base_uri": "https://localhost:8080/"
        },
        "id": "PzxudN6US4yo",
        "outputId": "a434f205-350f-4abd-a3ba-33bc1c8791bf"
      },
      "execution_count": 151,
      "outputs": [
        {
          "output_type": "stream",
          "name": "stdout",
          "text": [
            "c is greatest number\n"
          ]
        }
      ]
    },
    {
      "cell_type": "markdown",
      "source": [
        "#Loops in Py"
      ],
      "metadata": {
        "id": "epLtbyCu1ylc"
      }
    },
    {
      "cell_type": "markdown",
      "source": [
        "for loop( when we know the loop end)"
      ],
      "metadata": {
        "id": "1h7WF-DJ14bh"
      }
    },
    {
      "cell_type": "code",
      "source": [
        "#wrong approach\n",
        "laptop1 = int(input('Enter the price of the laptop: '))\n",
        "laptop2 = int(input('Enter the price of the laptop: '))\n",
        "laptop3 = int(input('Enter the price of the laptop: '))\n",
        "laptop4 = int(input('Enter the price of the laptop: '))\n",
        "laptop5 = int(input('Enter the price of the laptop: '))\n"
      ],
      "metadata": {
        "colab": {
          "base_uri": "https://localhost:8080/"
        },
        "id": "YkyL-MudUzTe",
        "outputId": "f3da32ce-ed01-41eb-d1fc-f4f81b8acc47"
      },
      "execution_count": 3,
      "outputs": [
        {
          "name": "stdout",
          "output_type": "stream",
          "text": [
            "Enter the price of the laptop: 200000\n",
            "Enter the price of the laptop: 300000\n",
            "Enter the price of the laptop: 400000\n",
            "Enter the price of the laptop: 500000\n",
            "Enter the price of the laptop: 600000\n"
          ]
        }
      ]
    },
    {
      "cell_type": "code",
      "source": [
        "for i in range(5):\n",
        "  laptop_price = int(input('Enter the price of the laptop: '))"
      ],
      "metadata": {
        "colab": {
          "base_uri": "https://localhost:8080/"
        },
        "id": "y9V5kqPL3n8A",
        "outputId": "e20df5fe-6a46-481e-ff56-7f9cf6855551"
      },
      "execution_count": 8,
      "outputs": [
        {
          "name": "stdout",
          "output_type": "stream",
          "text": [
            "Enter the price of the laptop: 1\n",
            "Enter the price of the laptop: 2\n",
            "Enter the price of the laptop: 3\n",
            "Enter the price of the laptop: 4\n",
            "Enter the price of the laptop: 5\n"
          ]
        }
      ]
    },
    {
      "cell_type": "code",
      "source": [
        "# wrong approach\n",
        "numbers = [50, 100, 150, 200]\n",
        "print(numbers[0])\n",
        "print(numbers[1])\n",
        "print(numbers[2])\n",
        "print(numbers[3])"
      ],
      "metadata": {
        "colab": {
          "base_uri": "https://localhost:8080/"
        },
        "id": "0etozvGZ5FAO",
        "outputId": "17f3cc90-4bbf-4e07-f406-cdaaae513675"
      },
      "execution_count": 9,
      "outputs": [
        {
          "output_type": "stream",
          "name": "stdout",
          "text": [
            "50\n",
            "100\n",
            "150\n",
            "200\n"
          ]
        }
      ]
    },
    {
      "cell_type": "code",
      "source": [
        "numbers = [50, 100, 150, 200]\n",
        "for i in numbers:\n",
        "  print(i)"
      ],
      "metadata": {
        "colab": {
          "base_uri": "https://localhost:8080/"
        },
        "id": "-BF-OZiY5h36",
        "outputId": "5db1ba52-8c27-48c8-ac61-196a4761196f"
      },
      "execution_count": 10,
      "outputs": [
        {
          "output_type": "stream",
          "name": "stdout",
          "text": [
            "50\n",
            "100\n",
            "150\n",
            "200\n"
          ]
        }
      ]
    },
    {
      "cell_type": "markdown",
      "source": [
        "While Loop(not sure were to stop the loop)\n",
        "\n",
        "syntax:\n",
        "while condition:\n",
        "  statement"
      ],
      "metadata": {
        "id": "p4aQXoT058mH"
      }
    },
    {
      "cell_type": "code",
      "source": [
        "i = 0\n",
        "\n",
        "while i < 10:\n",
        "  print(i)\n",
        "  i += 1 # i+1 increment"
      ],
      "metadata": {
        "colab": {
          "base_uri": "https://localhost:8080/"
        },
        "id": "Zkm-3r-G55N9",
        "outputId": "e50395e9-8c48-4c5f-cbb6-e93d0f70923a"
      },
      "execution_count": 11,
      "outputs": [
        {
          "output_type": "stream",
          "name": "stdout",
          "text": [
            "0\n",
            "1\n",
            "2\n",
            "3\n",
            "4\n",
            "5\n",
            "6\n",
            "7\n",
            "8\n",
            "9\n"
          ]
        }
      ]
    },
    {
      "cell_type": "code",
      "source": [
        "i = 5 #incorrect condition\n",
        "\n",
        "while i<3:\n",
        "  print(i)\n",
        "  i += 1"
      ],
      "metadata": {
        "id": "iJIGpxeN64Qd"
      },
      "execution_count": 13,
      "outputs": []
    }
  ]
}